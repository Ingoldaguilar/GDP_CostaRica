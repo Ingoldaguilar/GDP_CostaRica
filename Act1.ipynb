{
 "cells": [
  {
   "cell_type": "code",
   "execution_count": 1,
   "id": "fdff1254",
   "metadata": {},
   "outputs": [],
   "source": [
    "# Make a list with the values of the GDP per capita of Costa Rica between 2006 and 2018 (value in dollars)\n",
    "GDP_per_capita = [5188.4, 6055.1, 6841.9, 6737.9, 8147.2, 9137.5, 9971.7, 10633.3, 10737.7, 11530, 11899.8, 12118.1, 12383.1]"
   ]
  },
  {
   "cell_type": "code",
   "execution_count": 2,
   "id": "a757566d",
   "metadata": {},
   "outputs": [
    {
     "data": {
      "text/plain": [
       "0      5188.400000\n",
       "1      5787.958333\n",
       "2      6387.516667\n",
       "3      6987.075000\n",
       "4      7586.633333\n",
       "5      8186.191667\n",
       "6      8785.750000\n",
       "7      9385.308333\n",
       "8      9984.866667\n",
       "9     10584.425000\n",
       "10    11183.983333\n",
       "11    11783.541667\n",
       "12    12383.100000\n",
       "dtype: float64"
      ]
     },
     "execution_count": 2,
     "metadata": {},
     "output_type": "execute_result"
    }
   ],
   "source": [
    "# Make a mathematical sequence that approximate the results of the GDP per capita of Costa Rica.\n",
    "# use the range() function to represent the sequence.\n",
    "# Data: consider that n represents the year and n = 3 => 2007.\n",
    "\n",
    "# --------------------------------------------------------------------\n",
    "# get the mean of the differences. For this we'll use pandas\n",
    "import pandas as pd\n",
    "\n",
    "# redefine the list as a Serie\n",
    "new_GDP_per_capita = pd.Series(GDP_per_capita)\n",
    "\n",
    "# get a list with the differences between any GDP\n",
    "GDP_differences = []\n",
    "for i in range(0, len(new_GDP_per_capita)-1):\n",
    "    if i+1 <= len(new_GDP_per_capita):\n",
    "        GDP_diff = new_GDP_per_capita[i+1] - new_GDP_per_capita[i]\n",
    "        GDP_differences.append(GDP_diff)\n",
    "\n",
    "# Get the differences mean\n",
    "GDP_differences_mean = pd.Series(GDP_differences).mean()\n",
    "\n",
    "# Make the mathematical sequence\n",
    "# from n = 2 (2006) to n = 15 (2018) = 0 to 13\n",
    "an = new_GDP_per_capita[0]\n",
    "created_GDP_per_capita = []\n",
    "for i in range(0, 13):\n",
    "    if i == 0:\n",
    "        created_GDP_per_capita.append(an)\n",
    "    else:\n",
    "        # value + differences mean\n",
    "        an += GDP_differences_mean\n",
    "        created_GDP_per_capita.append(an)\n",
    "    \n",
    "# new GDP list\n",
    "# created_GDP_per_capita\n",
    "\n",
    "# convert it into a Serie\n",
    "created_GDP_per_capita = pd.Series(created_GDP_per_capita)\n",
    "created_GDP_per_capita"
   ]
  },
  {
   "cell_type": "code",
   "execution_count": 3,
   "id": "f09a2c41",
   "metadata": {},
   "outputs": [
    {
     "name": "stdout",
     "output_type": "stream",
     "text": [
      "\n",
      "Based on the predictions, for the *2020* the GDP per capita should be around $13582.216666666674 and for the *2021* the  GDP per capita should be around $14181.775000000009\n",
      "\n"
     ]
    }
   ],
   "source": [
    "# Based on the created GDP per capita serie, try to predict the GDP per capita of the 2020 and 2021 years\n",
    "\n",
    "# Use the same algorithm but, increase the range from 13 to 16 and change the name of the serie\n",
    "predictive_GDP_per_capita = []\n",
    "an = new_GDP_per_capita[0]\n",
    "for i in range(0, 16):\n",
    "    if i == 0:\n",
    "        predictive_GDP_per_capita.append(an)\n",
    "    else:\n",
    "        # value + differences mean + 50% of standart desviation\n",
    "        an += GDP_differences_mean\n",
    "        predictive_GDP_per_capita.append(an)\n",
    "        \n",
    "predictive_GDP_per_capita = pd.Series(predictive_GDP_per_capita)\n",
    "#predictive_GDP_per_capita\n",
    "\n",
    "# Answer \n",
    "print(f\"\"\"\n",
    "Based on the predictions, for the *2020* the GDP per capita should be around ${predictive_GDP_per_capita[14]} and for the *2021* the  GDP per capita should be around ${predictive_GDP_per_capita[15]}\n",
    "\"\"\")"
   ]
  },
  {
   "cell_type": "code",
   "execution_count": 21,
   "id": "67041b5f",
   "metadata": {},
   "outputs": [
    {
     "data": {
      "image/png": "[encoded data removed]",
      "text/plain": [
       "<Figure size 432x288 with 1 Axes>"
      ]
     },
     "metadata": {
      "needs_background": "light"
     },
     "output_type": "display_data"
    }
   ],
   "source": [
    "# Create a dispersion graphic that represents the data of the created GDP serie. Must include tittle and axes labels.\n",
    "\n",
    "# ------------------------------------------------------------\n",
    "# import necessary libraries\n",
    "from pylab import *\n",
    "import matplotlib.pyplot as plt \n",
    "\n",
    "# set years\n",
    "years = [2006, 2007, 2008, 2009, 2010, 2011, 2012, 2013, 2014, 2015, 2016, 2017, 2018]\n",
    "created_GDP_per_capita = list(created_GDP_per_capita)\n",
    "\n",
    "# Create the graphic\n",
    "plt.scatter(years, created_GDP_per_capita)\n",
    "plt.grid() \n",
    "plt.title('GDP per capita of Costa Rica') \n",
    "plt.ylabel('GDP per capita')\n",
    "plt.xlabel('Años') \n",
    "plt.title('GDP per capita of Costa Rica') \n",
    "\n",
    "# show the graphic\n",
    "plt.show()"
   ]
  },
  {
   "cell_type": "code",
   "execution_count": null,
   "id": "e63c61d7",
   "metadata": {},
   "outputs": [],
   "source": []
  }
 ],
 "metadata": {
  "kernelspec": {
   "display_name": "Python 3 (ipykernel)",
   "language": "python",
   "name": "python3"
  },
  "language_info": {
   "codemirror_mode": {
    "name": "ipython",
    "version": 3
   },
   "file_extension": ".py",
   "mimetype": "text/x-python",
   "name": "python",
   "nbconvert_exporter": "python",
   "pygments_lexer": "ipython3",
   "version": "3.10.4"
  }
 },
 "nbformat": 4,
 "nbformat_minor": 5
}
